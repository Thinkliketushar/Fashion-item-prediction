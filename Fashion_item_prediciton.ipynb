{
  "nbformat": 4,
  "nbformat_minor": 0,
  "metadata": {
    "colab": {
      "name": "Fashion item prediciton.ipynb",
      "provenance": [],
      "collapsed_sections": []
    },
    "kernelspec": {
      "name": "python3",
      "display_name": "Python 3"
    },
    "accelerator": "GPU"
  },
  "cells": [
    {
      "cell_type": "code",
      "metadata": {
        "id": "-IYVozeNMQCd",
        "colab_type": "code",
        "colab": {
          "base_uri": "https://localhost:8080/",
          "height": 34
        },
        "outputId": "32762e0e-18b9-45e3-fad4-4be9a50035fb"
      },
      "source": [
        "import keras    #----------- For dataset -------------#\n",
        "import tensorflow as tf #------------- To apply model--------------#\n",
        "from tensorflow import keras #----------------- For satisfaction to import keras--------------------#\n",
        "from keras.datasets import fashion_mnist  #------------------Import dataset-------------#\n",
        "import numpy as np #--------------For preprocessing----------#\n",
        "from tensorflow.keras.optimizers import RMSprop #------------For Optimiser--------------#\n",
        "from keras.models import Sequential  #-------------Initialise neural network-------------#\n",
        "from keras.layers import Conv2D  #-------------Convolution Step-------------#\n",
        "from keras.layers import MaxPooling2D #------------Max pooling step-----------------#\n",
        "from keras.layers import Flatten #------------Flatten step------------------#\n",
        "from keras.layers import Dense #-------------To make layers---------------#\n",
        "import matplotlib.pyplot as plt #------------TO See Image--------------#\n",
        "from google.colab import files #--------------Upload image for testing----------#\n",
        "from keras.preprocessing import image #--------------Preprocessign the image---------#\n",
        "from google.colab import drive #-----------Connect to google drive to save image----------#\n",
        "import os #-------To change directory in google drive--------#\n",
        "from keras.utils import np_utils #------Convert label dataset to one hot encode vector-------------#\n",
        "from keras.layers import Dropout #-----To detect features---------_#\n",
        "from keras.layers import BatchNormalization #------For normalisation the dataset---------#\n",
        "from keras import backend as K #----It perfoem the operation to backend-----------#\n",
        "from google.colab import auth #-------to connect the google drive--------#\n",
        "from oauth2client.client import GoogleCredentials #-------To connect the google drive----------_#\n",
        "import getpass\n",
        "from keras.models import load_model\n",
        "from keras.preprocessing.image import load_img\n",
        "from keras.preprocessing.image import img_to_array\n",
        "#May be some libraries we can not use but these library are used for all CNN project."
      ],
      "execution_count": 1,
      "outputs": [
        {
          "output_type": "stream",
          "text": [
            "Using TensorFlow backend.\n"
          ],
          "name": "stderr"
        }
      ]
    },
    {
      "cell_type": "code",
      "metadata": {
        "id": "iI-YIU04bovI",
        "colab_type": "code",
        "colab": {}
      },
      "source": [
        "# T-shirt/top\n",
        "# Trouser/pants\n",
        "# Pullover shirt\n",
        "# Dress\n",
        "# Coat\n",
        "# Sandal\n",
        "# Shirt\n",
        "# Sneaker\n",
        "# Bag\n",
        "# Ankle boot"
      ],
      "execution_count": 0,
      "outputs": []
    },
    {
      "cell_type": "code",
      "metadata": {
        "id": "hi3gPTT5Ql-2",
        "colab_type": "code",
        "colab": {}
      },
      "source": [
        "#divide dataset into training and testing\n",
        "(x_train, y_train), (x_test, y_test) = fashion_mnist.load_data()"
      ],
      "execution_count": 0,
      "outputs": []
    },
    {
      "cell_type": "code",
      "metadata": {
        "id": "o0ZAF2jDQ_SC",
        "colab_type": "code",
        "outputId": "af3fb637-378a-4a90-a15b-2c71be00a89e",
        "colab": {
          "base_uri": "https://localhost:8080/",
          "height": 136
        }
      },
      "source": [
        "# Explore the dataset\n",
        "print (\"Number of samples in X training data: \" + str(len(x_train)))\n",
        "print (\"Number of samples in Y training data: \" + str(len(y_train)))\n",
        "print (\"Dimensions of a single image in x_train:\" + str(x_train[0].shape))\n",
        "print(\"-------------------------------------------------------------\")\n",
        "print (\"Number of samples in X test data: \" + str(len(x_test)))\n",
        "print (\"Number of samples in Y test data: \" + str(len(y_test)))\n",
        "print (\"Dimensions of single image in x_test:\" + str(x_test[0].shape))"
      ],
      "execution_count": 4,
      "outputs": [
        {
          "output_type": "stream",
          "text": [
            "Number of samples in X training data: 60000\n",
            "Number of samples in Y training data: 60000\n",
            "Dimensions of a single image in x_train:(28, 28)\n",
            "-------------------------------------------------------------\n",
            "Number of samples in X test data: 10000\n",
            "Number of samples in Y test data: 10000\n",
            "Dimensions of single image in x_test:(28, 28)\n"
          ],
          "name": "stdout"
        }
      ]
    },
    {
      "cell_type": "code",
      "metadata": {
        "id": "KrjyTVpBRX0c",
        "colab_type": "code",
        "outputId": "14e19693-6d68-4bcc-ffd3-6a3a5fad9925",
        "colab": {
          "base_uri": "https://localhost:8080/",
          "height": 166
        }
      },
      "source": [
        "#nrows, ncols and index\n",
        "plt.subplot(231)\n",
        "random_num = np.random.randint(0,len(x_train))\n",
        "plt.imshow(x_train[random_num], cmap=plt.get_cmap('gray')) #cmap is set the gray_image"
      ],
      "execution_count": 5,
      "outputs": [
        {
          "output_type": "execute_result",
          "data": {
            "text/plain": [
              "<matplotlib.image.AxesImage at 0x7f8eb1606668>"
            ]
          },
          "metadata": {
            "tags": []
          },
          "execution_count": 5
        },
        {
          "output_type": "display_data",
          "data": {
            "image/png": "[encoded data removed]",
            "text/plain": [
              "<Figure size 432x288 with 1 Axes>"
            ]
          },
          "metadata": {
            "tags": [],
            "needs_background": "light"
          }
        }
      ]
    },
    {
      "cell_type": "code",
      "metadata": {
        "id": "qP6iP96jTyCF",
        "colab_type": "code",
        "outputId": "ad9b540a-3093-4ad8-af13-160cb607db08",
        "colab": {
          "base_uri": "https://localhost:8080/",
          "height": 282
        }
      },
      "source": [
        "plt.imshow(x_train[0], cmap=plt.get_cmap('gray'))"
      ],
      "execution_count": 6,
      "outputs": [
        {
          "output_type": "execute_result",
          "data": {
            "text/plain": [
              "<matplotlib.image.AxesImage at 0x7f8eb114d128>"
            ]
          },
          "metadata": {
            "tags": []
          },
          "execution_count": 6
        },
        {
          "output_type": "display_data",
          "data": {
            "image/png": "[encoded data removed]",
            "text/plain": [
              "<Figure size 432x288 with 1 Axes>"
            ]
          },
          "metadata": {
            "tags": [],
            "needs_background": "light"
          }
        }
      ]
    },
    {
      "cell_type": "code",
      "metadata": {
        "id": "SzGiP6PMVVIm",
        "colab_type": "code",
        "outputId": "e72acb63-d365-4342-edfa-fc71def42802",
        "colab": {
          "base_uri": "https://localhost:8080/",
          "height": 282
        }
      },
      "source": [
        "plt.imshow(x_train[0])"
      ],
      "execution_count": 7,
      "outputs": [
        {
          "output_type": "execute_result",
          "data": {
            "text/plain": [
              "<matplotlib.image.AxesImage at 0x7f8eb10b25f8>"
            ]
          },
          "metadata": {
            "tags": []
          },
          "execution_count": 7
        },
        {
          "output_type": "display_data",
          "data": {
            "image/png": "[encoded data removed]",
            "text/plain": [
              "<Figure size 432x288 with 1 Axes>"
            ]
          },
          "metadata": {
            "tags": [],
            "needs_background": "light"
          }
        }
      ]
    },
    {
      "cell_type": "code",
      "metadata": {
        "id": "C6YhWJ8zqhAM",
        "colab_type": "code",
        "colab": {
          "base_uri": "https://localhost:8080/",
          "height": 899
        },
        "outputId": "c86fd36d-f225-4089-b55d-60689647c9b3"
      },
      "source": [
        "for i in range(9):\n",
        "  plt.subplot(330 + 1+i)\n",
        "  plt.imshow(x_train[i], cmap = plt.get_cmap('gray'))\n",
        "  plt.show()"
      ],
      "execution_count": 8,
      "outputs": [
        {
          "output_type": "display_data",
          "data": {
            "image/png": "[encoded data removed]",
            "text/plain": [
              "<Figure size 432x288 with 1 Axes>"
            ]
          },
          "metadata": {
            "tags": [],
            "needs_background": "light"
          }
        },
        {
          "output_type": "display_data",
          "data": {
            "image/png": "[encoded data removed]",
            "text/plain": [
              "<Figure size 432x288 with 1 Axes>"
            ]
          },
          "metadata": {
            "tags": [],
            "needs_background": "light"
          }
        },
        {
          "output_type": "display_data",
          "data": {
            "image/png": "[encoded data removed]",
            "text/plain": [
              "<Figure size 432x288 with 1 Axes>"
            ]
          },
          "metadata": {
            "tags": [],
            "needs_background": "light"
          }
        },
        {
          "output_type": "display_data",
          "data": {
            "image/png": "[encoded data removed]",
            "text/plain": [
              "<Figure size 432x288 with 1 Axes>"
            ]
          },
          "metadata": {
            "tags": [],
            "needs_background": "light"
          }
        },
        {
          "output_type": "display_data",
          "data": {
            "image/png": "[encoded data removed]",
            "text/plain": [
              "<Figure size 432x288 with 1 Axes>"
            ]
          },
          "metadata": {
            "tags": [],
            "needs_background": "light"
          }
        },
        {
          "output_type": "display_data",
          "data": {
            "image/png": "[encoded data removed]",
            "text/plain": [
              "<Figure size 432x288 with 1 Axes>"
            ]
          },
          "metadata": {
            "tags": [],
            "needs_background": "light"
          }
        },
        {
          "output_type": "display_data",
          "data": {
            "image/png": "[encoded data removed]",
            "text/plain": [
              "<Figure size 432x288 with 1 Axes>"
            ]
          },
          "metadata": {
            "tags": [],
            "needs_background": "light"
          }
        },
        {
          "output_type": "display_data",
          "data": {
            "image/png": "[encoded data removed]",
            "text/plain": [
              "<Figure size 432x288 with 1 Axes>"
            ]
          },
          "metadata": {
            "tags": [],
            "needs_background": "light"
          }
        },
        {
          "output_type": "display_data",
          "data": {
            "image/png": "[encoded data removed]",
            "text/plain": [
              "<Figure size 432x288 with 1 Axes>"
            ]
          },
          "metadata": {
            "tags": [],
            "needs_background": "light"
          }
        }
      ]
    },
    {
      "cell_type": "code",
      "metadata": {
        "id": "igwzBgD9VqG-",
        "colab_type": "code",
        "outputId": "d3e15f37-9301-4aa1-bf88-de18ca3ad924",
        "colab": {
          "base_uri": "https://localhost:8080/",
          "height": 34
        }
      },
      "source": [
        "#-----Storeing the number of rows and columns------#\n",
        "img_rows = x_train[0].shape[0]\n",
        "img_cols = x_train[1].shape[0]\n",
        "img_rows"
      ],
      "execution_count": 9,
      "outputs": [
        {
          "output_type": "execute_result",
          "data": {
            "text/plain": [
              "28"
            ]
          },
          "metadata": {
            "tags": []
          },
          "execution_count": 9
        }
      ]
    },
    {
      "cell_type": "code",
      "metadata": {
        "id": "opie2LTNYPjt",
        "colab_type": "code",
        "outputId": "1e33b4a0-958c-4fe9-eeaf-3f05fcc17e70",
        "colab": {
          "base_uri": "https://localhost:8080/",
          "height": 34
        }
      },
      "source": [
        "x_train.shape"
      ],
      "execution_count": 10,
      "outputs": [
        {
          "output_type": "execute_result",
          "data": {
            "text/plain": [
              "(60000, 28, 28)"
            ]
          },
          "metadata": {
            "tags": []
          },
          "execution_count": 10
        }
      ]
    },
    {
      "cell_type": "code",
      "metadata": {
        "id": "8gmTSd-FYpOd",
        "colab_type": "code",
        "outputId": "312771c0-bf63-4de5-fcbf-ee0b0ea17f69",
        "colab": {
          "base_uri": "https://localhost:8080/",
          "height": 34
        }
      },
      "source": [
        "x_train.shape[0]"
      ],
      "execution_count": 11,
      "outputs": [
        {
          "output_type": "execute_result",
          "data": {
            "text/plain": [
              "60000"
            ]
          },
          "metadata": {
            "tags": []
          },
          "execution_count": 11
        }
      ]
    },
    {
      "cell_type": "code",
      "metadata": {
        "id": "ZzJjDzk6Yum4",
        "colab_type": "code",
        "colab": {}
      },
      "source": [
        "x_train = x_train.reshape(x_train.shape[0], img_rows, img_cols, 1)\n",
        "x_test = x_test.reshape(x_test.shape[0], img_rows, img_cols, 1)\n",
        "#grayscale channel 1 and colar iamge is 3\n",
        "#reshape change the array without changing the data"
      ],
      "execution_count": 0,
      "outputs": []
    },
    {
      "cell_type": "code",
      "metadata": {
        "id": "v2cUPMAFY3PU",
        "colab_type": "code",
        "colab": {}
      },
      "source": [
        "# Storing the shape of a single image \n",
        "input_shape = (img_rows, img_cols, 1)"
      ],
      "execution_count": 0,
      "outputs": []
    },
    {
      "cell_type": "code",
      "metadata": {
        "id": "PgVi_jR4ZVFD",
        "colab_type": "code",
        "colab": {}
      },
      "source": [
        "x_train = x_train.astype('float32')\n",
        "x_test = x_test.astype('float32')"
      ],
      "execution_count": 0,
      "outputs": []
    },
    {
      "cell_type": "code",
      "metadata": {
        "id": "zzfsS0jcZirQ",
        "colab_type": "code",
        "outputId": "2a908b27-507b-4abf-b34b-967b45bd44d7",
        "colab": {
          "base_uri": "https://localhost:8080/",
          "height": 51
        }
      },
      "source": [
        "#normalisation of the dataset\n",
        "#hot encding\n",
        "num_classes = 10\n",
        "print('Before:',y_test[0])\n",
        "y_train = keras.utils.to_categorical(y_train, num_classes) \n",
        "y_test = keras.utils.to_categorical(y_test, num_classes)\n",
        "print('After:',y_test[0])\n",
        "x_train = x_train/255.0\n",
        "x_test = x_test/255.0"
      ],
      "execution_count": 15,
      "outputs": [
        {
          "output_type": "stream",
          "text": [
            "Before: 9\n",
            "After: [0. 0. 0. 0. 0. 0. 0. 0. 0. 1.]\n"
          ],
          "name": "stdout"
        }
      ]
    },
    {
      "cell_type": "code",
      "metadata": {
        "id": "BUE9P1cgcWPT",
        "colab_type": "code",
        "colab": {}
      },
      "source": [
        "# Calculate the number of classes and number of pixels \n",
        "num_classes = y_test.shape[1]\n",
        "num_pixels = x_train.shape[1] * x_train.shape[2]"
      ],
      "execution_count": 0,
      "outputs": []
    },
    {
      "cell_type": "code",
      "metadata": {
        "id": "WIqmDn1hc8YT",
        "colab_type": "code",
        "outputId": "4d80534a-4e94-4e84-933e-e1ba911ea85c",
        "colab": {
          "base_uri": "https://localhost:8080/",
          "height": 34
        }
      },
      "source": [
        "num_classes"
      ],
      "execution_count": 17,
      "outputs": [
        {
          "output_type": "execute_result",
          "data": {
            "text/plain": [
              "10"
            ]
          },
          "metadata": {
            "tags": []
          },
          "execution_count": 17
        }
      ]
    },
    {
      "cell_type": "code",
      "metadata": {
        "id": "XThxlDFUc_6r",
        "colab_type": "code",
        "outputId": "3bbe1194-c648-4f27-af44-b7bf771a06d1",
        "colab": {
          "base_uri": "https://localhost:8080/",
          "height": 34
        }
      },
      "source": [
        "y_test.shape"
      ],
      "execution_count": 18,
      "outputs": [
        {
          "output_type": "execute_result",
          "data": {
            "text/plain": [
              "(10000, 10)"
            ]
          },
          "metadata": {
            "tags": []
          },
          "execution_count": 18
        }
      ]
    },
    {
      "cell_type": "code",
      "metadata": {
        "id": "nwT6l-1RdEv1",
        "colab_type": "code",
        "outputId": "84eaa330-d357-4e92-f34f-3fcb055fb832",
        "colab": {
          "base_uri": "https://localhost:8080/",
          "height": 34
        }
      },
      "source": [
        "num_pixels #28*28"
      ],
      "execution_count": 19,
      "outputs": [
        {
          "output_type": "execute_result",
          "data": {
            "text/plain": [
              "784"
            ]
          },
          "metadata": {
            "tags": []
          },
          "execution_count": 19
        }
      ]
    },
    {
      "cell_type": "code",
      "metadata": {
        "id": "Y3medY_zdG9A",
        "colab_type": "code",
        "colab": {
          "base_uri": "https://localhost:8080/",
          "height": 544
        },
        "outputId": "72b48c44-abc2-4f0d-a12a-28cbdfcbb6eb"
      },
      "source": [
        "model = Sequential()\n",
        "\n",
        "model.add(Conv2D(32, kernel_size=(3, 3),\n",
        "                 activation='relu',\n",
        "                 input_shape=input_shape))\n",
        "model.add(BatchNormalization())\n",
        "\n",
        "model.add(Conv2D(64, (3, 3), activation='relu'))\n",
        "model.add(BatchNormalization())\n",
        "\n",
        "model.add(MaxPooling2D(pool_size=(2, 2)))\n",
        "model.add(Dropout(0.25)) #----for over fitting.\n",
        "\n",
        "model.add(Flatten())\n",
        "model.add(Dense(128, activation='relu'))\n",
        "model.add(BatchNormalization())\n",
        "\n",
        "model.add(Dropout(0.5))\n",
        "model.add(Dense(num_classes, activation='softmax')) #softmax is convert 0 to 1\n",
        "\n",
        "model.compile(loss = 'categorical_crossentropy',\n",
        "              optimizer = keras.optimizers.Adadelta(),\n",
        "              metrics = ['accuracy'])\n",
        "\n",
        "print(model.summary())"
      ],
      "execution_count": 20,
      "outputs": [
        {
          "output_type": "stream",
          "text": [
            "Model: \"sequential_1\"\n",
            "_________________________________________________________________\n",
            "Layer (type)                 Output Shape              Param #   \n",
            "=================================================================\n",
            "conv2d_1 (Conv2D)            (None, 26, 26, 32)        320       \n",
            "_________________________________________________________________\n",
            "batch_normalization_1 (Batch (None, 26, 26, 32)        128       \n",
            "_________________________________________________________________\n",
            "conv2d_2 (Conv2D)            (None, 24, 24, 64)        18496     \n",
            "_________________________________________________________________\n",
            "batch_normalization_2 (Batch (None, 24, 24, 64)        256       \n",
            "_________________________________________________________________\n",
            "max_pooling2d_1 (MaxPooling2 (None, 12, 12, 64)        0         \n",
            "_________________________________________________________________\n",
            "dropout_1 (Dropout)          (None, 12, 12, 64)        0         \n",
            "_________________________________________________________________\n",
            "flatten_1 (Flatten)          (None, 9216)              0         \n",
            "_________________________________________________________________\n",
            "dense_1 (Dense)              (None, 128)               1179776   \n",
            "_________________________________________________________________\n",
            "batch_normalization_3 (Batch (None, 128)               512       \n",
            "_________________________________________________________________\n",
            "dropout_2 (Dropout)          (None, 128)               0         \n",
            "_________________________________________________________________\n",
            "dense_2 (Dense)              (None, 10)                1290      \n",
            "=================================================================\n",
            "Total params: 1,200,778\n",
            "Trainable params: 1,200,330\n",
            "Non-trainable params: 448\n",
            "_________________________________________________________________\n",
            "None\n"
          ],
          "name": "stdout"
        }
      ]
    },
    {
      "cell_type": "code",
      "metadata": {
        "id": "KPTCOpxus5sv",
        "colab_type": "code",
        "colab": {
          "base_uri": "https://localhost:8080/",
          "height": 1000
        },
        "outputId": "e491f882-35d1-4c21-d1f7-768c28fe030b"
      },
      "source": [
        "batch_size = 128\n",
        "epochs = 100\n",
        "model_fitting = model.fit(x_train, y_train,\n",
        "          batch_size=batch_size,\n",
        "          epochs=epochs,\n",
        "          verbose=1,\n",
        "          validation_data=(x_test, y_test))\n",
        "\n",
        "score = model.evaluate(x_test, y_test, verbose=0)\n",
        "print('Test loss:', score[0])\n",
        "print('Test accuracy:', score[1])"
      ],
      "execution_count": 21,
      "outputs": [
        {
          "output_type": "stream",
          "text": [
            "Train on 60000 samples, validate on 10000 samples\n",
            "Epoch 1/100\n",
            "60000/60000 [==============================] - 8s 137us/step - loss: 2.5237 - accuracy: 0.2727 - val_loss: 1.5573 - val_accuracy: 0.4852\n",
            "Epoch 2/100\n",
            "60000/60000 [==============================] - 6s 106us/step - loss: 1.5370 - accuracy: 0.5063 - val_loss: 0.8548 - val_accuracy: 0.6994\n",
            "Epoch 3/100\n",
            "60000/60000 [==============================] - 6s 103us/step - loss: 1.2223 - accuracy: 0.6043 - val_loss: 0.7402 - val_accuracy: 0.7372\n",
            "Epoch 4/100\n",
            "60000/60000 [==============================] - 6s 103us/step - loss: 1.0689 - accuracy: 0.6514 - val_loss: 0.6797 - val_accuracy: 0.7590\n",
            "Epoch 5/100\n",
            "60000/60000 [==============================] - 6s 103us/step - loss: 0.9708 - accuracy: 0.6823 - val_loss: 0.6385 - val_accuracy: 0.7730\n",
            "Epoch 6/100\n",
            "60000/60000 [==============================] - 6s 104us/step - loss: 0.9070 - accuracy: 0.7016 - val_loss: 0.6095 - val_accuracy: 0.7833\n",
            "Epoch 7/100\n",
            "60000/60000 [==============================] - 6s 103us/step - loss: 0.8614 - accuracy: 0.7144 - val_loss: 0.5866 - val_accuracy: 0.7901\n",
            "Epoch 8/100\n",
            "60000/60000 [==============================] - 6s 103us/step - loss: 0.8225 - accuracy: 0.7299 - val_loss: 0.5661 - val_accuracy: 0.7978\n",
            "Epoch 9/100\n",
            "60000/60000 [==============================] - 6s 104us/step - loss: 0.7877 - accuracy: 0.7372 - val_loss: 0.5500 - val_accuracy: 0.8056\n",
            "Epoch 10/100\n",
            "60000/60000 [==============================] - 6s 103us/step - loss: 0.7530 - accuracy: 0.7469 - val_loss: 0.5360 - val_accuracy: 0.8091\n",
            "Epoch 11/100\n",
            "60000/60000 [==============================] - 6s 103us/step - loss: 0.7364 - accuracy: 0.7528 - val_loss: 0.5250 - val_accuracy: 0.8140\n",
            "Epoch 12/100\n",
            "60000/60000 [==============================] - 6s 103us/step - loss: 0.7180 - accuracy: 0.7586 - val_loss: 0.5137 - val_accuracy: 0.8178\n",
            "Epoch 13/100\n",
            "60000/60000 [==============================] - 6s 103us/step - loss: 0.6999 - accuracy: 0.7629 - val_loss: 0.5045 - val_accuracy: 0.8208\n",
            "Epoch 14/100\n",
            "60000/60000 [==============================] - 6s 103us/step - loss: 0.6861 - accuracy: 0.7671 - val_loss: 0.4960 - val_accuracy: 0.8236\n",
            "Epoch 15/100\n",
            "60000/60000 [==============================] - 6s 103us/step - loss: 0.6689 - accuracy: 0.7735 - val_loss: 0.4882 - val_accuracy: 0.8257\n",
            "Epoch 16/100\n",
            "60000/60000 [==============================] - 6s 103us/step - loss: 0.6629 - accuracy: 0.7760 - val_loss: 0.4812 - val_accuracy: 0.8287\n",
            "Epoch 17/100\n",
            "60000/60000 [==============================] - 6s 103us/step - loss: 0.6454 - accuracy: 0.7806 - val_loss: 0.4750 - val_accuracy: 0.8302\n",
            "Epoch 18/100\n",
            "60000/60000 [==============================] - 6s 103us/step - loss: 0.6366 - accuracy: 0.7837 - val_loss: 0.4690 - val_accuracy: 0.8316\n",
            "Epoch 19/100\n",
            "60000/60000 [==============================] - 6s 103us/step - loss: 0.6253 - accuracy: 0.7881 - val_loss: 0.4638 - val_accuracy: 0.8343\n",
            "Epoch 20/100\n",
            "60000/60000 [==============================] - 6s 103us/step - loss: 0.6133 - accuracy: 0.7907 - val_loss: 0.4584 - val_accuracy: 0.8356\n",
            "Epoch 21/100\n",
            "60000/60000 [==============================] - 6s 103us/step - loss: 0.6122 - accuracy: 0.7922 - val_loss: 0.4539 - val_accuracy: 0.8379\n",
            "Epoch 22/100\n",
            "60000/60000 [==============================] - 6s 104us/step - loss: 0.6039 - accuracy: 0.7950 - val_loss: 0.4491 - val_accuracy: 0.8393\n",
            "Epoch 23/100\n",
            "60000/60000 [==============================] - 6s 103us/step - loss: 0.5932 - accuracy: 0.7968 - val_loss: 0.4455 - val_accuracy: 0.8398\n",
            "Epoch 24/100\n",
            "60000/60000 [==============================] - 6s 103us/step - loss: 0.5875 - accuracy: 0.7987 - val_loss: 0.4416 - val_accuracy: 0.8417\n",
            "Epoch 25/100\n",
            "60000/60000 [==============================] - 6s 103us/step - loss: 0.5834 - accuracy: 0.8004 - val_loss: 0.4377 - val_accuracy: 0.8427\n",
            "Epoch 26/100\n",
            "60000/60000 [==============================] - 6s 103us/step - loss: 0.5738 - accuracy: 0.8038 - val_loss: 0.4344 - val_accuracy: 0.8440\n",
            "Epoch 27/100\n",
            "60000/60000 [==============================] - 6s 104us/step - loss: 0.5703 - accuracy: 0.8047 - val_loss: 0.4310 - val_accuracy: 0.8444\n",
            "Epoch 28/100\n",
            "60000/60000 [==============================] - 6s 104us/step - loss: 0.5642 - accuracy: 0.8065 - val_loss: 0.4282 - val_accuracy: 0.8471\n",
            "Epoch 29/100\n",
            "60000/60000 [==============================] - 6s 103us/step - loss: 0.5586 - accuracy: 0.8099 - val_loss: 0.4249 - val_accuracy: 0.8486\n",
            "Epoch 30/100\n",
            "60000/60000 [==============================] - 6s 104us/step - loss: 0.5514 - accuracy: 0.8107 - val_loss: 0.4219 - val_accuracy: 0.8494\n",
            "Epoch 31/100\n",
            "60000/60000 [==============================] - 6s 106us/step - loss: 0.5446 - accuracy: 0.8146 - val_loss: 0.4191 - val_accuracy: 0.8512\n",
            "Epoch 32/100\n",
            "60000/60000 [==============================] - 6s 105us/step - loss: 0.5401 - accuracy: 0.8146 - val_loss: 0.4164 - val_accuracy: 0.8514\n",
            "Epoch 33/100\n",
            "60000/60000 [==============================] - 6s 103us/step - loss: 0.5352 - accuracy: 0.8165 - val_loss: 0.4143 - val_accuracy: 0.8505\n",
            "Epoch 34/100\n",
            "60000/60000 [==============================] - 6s 103us/step - loss: 0.5361 - accuracy: 0.8160 - val_loss: 0.4113 - val_accuracy: 0.8528\n",
            "Epoch 35/100\n",
            "60000/60000 [==============================] - 6s 103us/step - loss: 0.5338 - accuracy: 0.8182 - val_loss: 0.4095 - val_accuracy: 0.8533\n",
            "Epoch 36/100\n",
            "60000/60000 [==============================] - 6s 103us/step - loss: 0.5262 - accuracy: 0.8198 - val_loss: 0.4070 - val_accuracy: 0.8547\n",
            "Epoch 37/100\n",
            "60000/60000 [==============================] - 6s 104us/step - loss: 0.5259 - accuracy: 0.8207 - val_loss: 0.4046 - val_accuracy: 0.8563\n",
            "Epoch 38/100\n",
            "60000/60000 [==============================] - 6s 104us/step - loss: 0.5160 - accuracy: 0.8242 - val_loss: 0.4024 - val_accuracy: 0.8562\n",
            "Epoch 39/100\n",
            "60000/60000 [==============================] - 6s 103us/step - loss: 0.5175 - accuracy: 0.8224 - val_loss: 0.4004 - val_accuracy: 0.8572\n",
            "Epoch 40/100\n",
            "60000/60000 [==============================] - 6s 103us/step - loss: 0.5132 - accuracy: 0.8240 - val_loss: 0.3983 - val_accuracy: 0.8575\n",
            "Epoch 41/100\n",
            "60000/60000 [==============================] - 6s 103us/step - loss: 0.5056 - accuracy: 0.8258 - val_loss: 0.3966 - val_accuracy: 0.8580\n",
            "Epoch 42/100\n",
            "60000/60000 [==============================] - 6s 103us/step - loss: 0.5040 - accuracy: 0.8286 - val_loss: 0.3942 - val_accuracy: 0.8592\n",
            "Epoch 43/100\n",
            "60000/60000 [==============================] - 6s 103us/step - loss: 0.4986 - accuracy: 0.8296 - val_loss: 0.3925 - val_accuracy: 0.8597\n",
            "Epoch 44/100\n",
            "60000/60000 [==============================] - 6s 103us/step - loss: 0.4993 - accuracy: 0.8285 - val_loss: 0.3907 - val_accuracy: 0.8610\n",
            "Epoch 45/100\n",
            "60000/60000 [==============================] - 6s 103us/step - loss: 0.4941 - accuracy: 0.8306 - val_loss: 0.3886 - val_accuracy: 0.8617\n",
            "Epoch 46/100\n",
            "60000/60000 [==============================] - 6s 103us/step - loss: 0.4873 - accuracy: 0.8317 - val_loss: 0.3869 - val_accuracy: 0.8623\n",
            "Epoch 47/100\n",
            "60000/60000 [==============================] - 6s 104us/step - loss: 0.4894 - accuracy: 0.8309 - val_loss: 0.3852 - val_accuracy: 0.8628\n",
            "Epoch 48/100\n",
            "60000/60000 [==============================] - 6s 103us/step - loss: 0.4855 - accuracy: 0.8345 - val_loss: 0.3836 - val_accuracy: 0.8632\n",
            "Epoch 49/100\n",
            "60000/60000 [==============================] - 6s 104us/step - loss: 0.4813 - accuracy: 0.8343 - val_loss: 0.3819 - val_accuracy: 0.8630\n",
            "Epoch 50/100\n",
            "60000/60000 [==============================] - 6s 103us/step - loss: 0.4838 - accuracy: 0.8349 - val_loss: 0.3805 - val_accuracy: 0.8641\n",
            "Epoch 51/100\n",
            "60000/60000 [==============================] - 6s 106us/step - loss: 0.4766 - accuracy: 0.8370 - val_loss: 0.3790 - val_accuracy: 0.8649\n",
            "Epoch 52/100\n",
            "60000/60000 [==============================] - 6s 103us/step - loss: 0.4725 - accuracy: 0.8369 - val_loss: 0.3776 - val_accuracy: 0.8656\n",
            "Epoch 53/100\n",
            "60000/60000 [==============================] - 6s 104us/step - loss: 0.4705 - accuracy: 0.8368 - val_loss: 0.3762 - val_accuracy: 0.8669\n",
            "Epoch 54/100\n",
            "60000/60000 [==============================] - 6s 103us/step - loss: 0.4672 - accuracy: 0.8385 - val_loss: 0.3747 - val_accuracy: 0.8670\n",
            "Epoch 55/100\n",
            "60000/60000 [==============================] - 6s 103us/step - loss: 0.4654 - accuracy: 0.8407 - val_loss: 0.3733 - val_accuracy: 0.8670\n",
            "Epoch 56/100\n",
            "60000/60000 [==============================] - 6s 103us/step - loss: 0.4643 - accuracy: 0.8396 - val_loss: 0.3718 - val_accuracy: 0.8679\n",
            "Epoch 57/100\n",
            "60000/60000 [==============================] - 6s 102us/step - loss: 0.4609 - accuracy: 0.8427 - val_loss: 0.3706 - val_accuracy: 0.8671\n",
            "Epoch 58/100\n",
            "60000/60000 [==============================] - 6s 103us/step - loss: 0.4620 - accuracy: 0.8403 - val_loss: 0.3694 - val_accuracy: 0.8695\n",
            "Epoch 59/100\n",
            "60000/60000 [==============================] - 6s 103us/step - loss: 0.4594 - accuracy: 0.8408 - val_loss: 0.3678 - val_accuracy: 0.8690\n",
            "Epoch 60/100\n",
            "60000/60000 [==============================] - 6s 103us/step - loss: 0.4534 - accuracy: 0.8439 - val_loss: 0.3667 - val_accuracy: 0.8695\n",
            "Epoch 61/100\n",
            "60000/60000 [==============================] - 6s 102us/step - loss: 0.4508 - accuracy: 0.8454 - val_loss: 0.3654 - val_accuracy: 0.8704\n",
            "Epoch 62/100\n",
            "60000/60000 [==============================] - 6s 103us/step - loss: 0.4537 - accuracy: 0.8448 - val_loss: 0.3644 - val_accuracy: 0.8712\n",
            "Epoch 63/100\n",
            "60000/60000 [==============================] - 6s 103us/step - loss: 0.4485 - accuracy: 0.8453 - val_loss: 0.3631 - val_accuracy: 0.8715\n",
            "Epoch 64/100\n",
            "60000/60000 [==============================] - 6s 103us/step - loss: 0.4434 - accuracy: 0.8475 - val_loss: 0.3620 - val_accuracy: 0.8714\n",
            "Epoch 65/100\n",
            "60000/60000 [==============================] - 6s 102us/step - loss: 0.4493 - accuracy: 0.8458 - val_loss: 0.3608 - val_accuracy: 0.8720\n",
            "Epoch 66/100\n",
            "60000/60000 [==============================] - 6s 103us/step - loss: 0.4456 - accuracy: 0.8459 - val_loss: 0.3597 - val_accuracy: 0.8723\n",
            "Epoch 67/100\n",
            "60000/60000 [==============================] - 6s 102us/step - loss: 0.4430 - accuracy: 0.8478 - val_loss: 0.3583 - val_accuracy: 0.8726\n",
            "Epoch 68/100\n",
            "60000/60000 [==============================] - 6s 103us/step - loss: 0.4419 - accuracy: 0.8483 - val_loss: 0.3573 - val_accuracy: 0.8727\n",
            "Epoch 69/100\n",
            "60000/60000 [==============================] - 6s 103us/step - loss: 0.4368 - accuracy: 0.8496 - val_loss: 0.3563 - val_accuracy: 0.8740\n",
            "Epoch 70/100\n",
            "60000/60000 [==============================] - 6s 103us/step - loss: 0.4346 - accuracy: 0.8497 - val_loss: 0.3552 - val_accuracy: 0.8739\n",
            "Epoch 71/100\n",
            "60000/60000 [==============================] - 6s 103us/step - loss: 0.4335 - accuracy: 0.8508 - val_loss: 0.3538 - val_accuracy: 0.8743\n",
            "Epoch 72/100\n",
            "60000/60000 [==============================] - 6s 102us/step - loss: 0.4275 - accuracy: 0.8515 - val_loss: 0.3530 - val_accuracy: 0.8748\n",
            "Epoch 73/100\n",
            "60000/60000 [==============================] - 6s 103us/step - loss: 0.4315 - accuracy: 0.8504 - val_loss: 0.3519 - val_accuracy: 0.8750\n",
            "Epoch 74/100\n",
            "60000/60000 [==============================] - 6s 103us/step - loss: 0.4300 - accuracy: 0.8519 - val_loss: 0.3512 - val_accuracy: 0.8754\n",
            "Epoch 75/100\n",
            "60000/60000 [==============================] - 6s 102us/step - loss: 0.4257 - accuracy: 0.8532 - val_loss: 0.3499 - val_accuracy: 0.8756\n",
            "Epoch 76/100\n",
            "60000/60000 [==============================] - 6s 103us/step - loss: 0.4264 - accuracy: 0.8526 - val_loss: 0.3491 - val_accuracy: 0.8759\n",
            "Epoch 77/100\n",
            "60000/60000 [==============================] - 6s 103us/step - loss: 0.4251 - accuracy: 0.8526 - val_loss: 0.3482 - val_accuracy: 0.8762\n",
            "Epoch 78/100\n",
            "60000/60000 [==============================] - 6s 103us/step - loss: 0.4254 - accuracy: 0.8539 - val_loss: 0.3470 - val_accuracy: 0.8769\n",
            "Epoch 79/100\n",
            "60000/60000 [==============================] - 6s 103us/step - loss: 0.4230 - accuracy: 0.8539 - val_loss: 0.3461 - val_accuracy: 0.8773\n",
            "Epoch 80/100\n",
            "60000/60000 [==============================] - 6s 103us/step - loss: 0.4191 - accuracy: 0.8554 - val_loss: 0.3450 - val_accuracy: 0.8777\n",
            "Epoch 81/100\n",
            "60000/60000 [==============================] - 6s 106us/step - loss: 0.4176 - accuracy: 0.8543 - val_loss: 0.3442 - val_accuracy: 0.8776\n",
            "Epoch 82/100\n",
            "60000/60000 [==============================] - 6s 104us/step - loss: 0.4169 - accuracy: 0.8557 - val_loss: 0.3432 - val_accuracy: 0.8785\n",
            "Epoch 83/100\n",
            "60000/60000 [==============================] - 6s 103us/step - loss: 0.4122 - accuracy: 0.8572 - val_loss: 0.3422 - val_accuracy: 0.8789\n",
            "Epoch 84/100\n",
            "60000/60000 [==============================] - 6s 103us/step - loss: 0.4123 - accuracy: 0.8575 - val_loss: 0.3414 - val_accuracy: 0.8792\n",
            "Epoch 85/100\n",
            "60000/60000 [==============================] - 6s 103us/step - loss: 0.4123 - accuracy: 0.8569 - val_loss: 0.3403 - val_accuracy: 0.8790\n",
            "Epoch 86/100\n",
            "60000/60000 [==============================] - 6s 103us/step - loss: 0.4134 - accuracy: 0.8561 - val_loss: 0.3396 - val_accuracy: 0.8796\n",
            "Epoch 87/100\n",
            "60000/60000 [==============================] - 6s 103us/step - loss: 0.4101 - accuracy: 0.8590 - val_loss: 0.3387 - val_accuracy: 0.8804\n",
            "Epoch 88/100\n",
            "60000/60000 [==============================] - 6s 103us/step - loss: 0.4058 - accuracy: 0.8598 - val_loss: 0.3378 - val_accuracy: 0.8805\n",
            "Epoch 89/100\n",
            "60000/60000 [==============================] - 6s 103us/step - loss: 0.4072 - accuracy: 0.8600 - val_loss: 0.3372 - val_accuracy: 0.8804\n",
            "Epoch 90/100\n",
            "60000/60000 [==============================] - 6s 103us/step - loss: 0.4088 - accuracy: 0.8576 - val_loss: 0.3366 - val_accuracy: 0.8817\n",
            "Epoch 91/100\n",
            "60000/60000 [==============================] - 6s 103us/step - loss: 0.4033 - accuracy: 0.8618 - val_loss: 0.3359 - val_accuracy: 0.8812\n",
            "Epoch 92/100\n",
            "60000/60000 [==============================] - 6s 103us/step - loss: 0.4010 - accuracy: 0.8609 - val_loss: 0.3351 - val_accuracy: 0.8816\n",
            "Epoch 93/100\n",
            "60000/60000 [==============================] - 6s 103us/step - loss: 0.4005 - accuracy: 0.8617 - val_loss: 0.3342 - val_accuracy: 0.8820\n",
            "Epoch 94/100\n",
            "60000/60000 [==============================] - 6s 103us/step - loss: 0.4003 - accuracy: 0.8620 - val_loss: 0.3335 - val_accuracy: 0.8820\n",
            "Epoch 95/100\n",
            "60000/60000 [==============================] - 6s 103us/step - loss: 0.4002 - accuracy: 0.8620 - val_loss: 0.3329 - val_accuracy: 0.8823\n",
            "Epoch 96/100\n",
            "60000/60000 [==============================] - 6s 103us/step - loss: 0.3977 - accuracy: 0.8614 - val_loss: 0.3320 - val_accuracy: 0.8829\n",
            "Epoch 97/100\n",
            "60000/60000 [==============================] - 6s 103us/step - loss: 0.3980 - accuracy: 0.8618 - val_loss: 0.3316 - val_accuracy: 0.8832\n",
            "Epoch 98/100\n",
            "60000/60000 [==============================] - 6s 103us/step - loss: 0.3978 - accuracy: 0.8631 - val_loss: 0.3306 - val_accuracy: 0.8840\n",
            "Epoch 99/100\n",
            "60000/60000 [==============================] - 6s 103us/step - loss: 0.3970 - accuracy: 0.8630 - val_loss: 0.3302 - val_accuracy: 0.8841\n",
            "Epoch 100/100\n",
            "60000/60000 [==============================] - 6s 104us/step - loss: 0.3918 - accuracy: 0.8655 - val_loss: 0.3290 - val_accuracy: 0.8844\n",
            "Test loss: 0.32899036469459536\n",
            "Test accuracy: 0.8844000101089478\n"
          ],
          "name": "stdout"
        }
      ]
    },
    {
      "cell_type": "code",
      "metadata": {
        "id": "Re_1GM-Vt4mb",
        "colab_type": "code",
        "colab": {
          "base_uri": "https://localhost:8080/",
          "height": 51
        },
        "outputId": "51a34b2a-7a3d-4100-d64b-46ea00f952b7"
      },
      "source": [
        "score = model.evaluate(x_test, y_test, verbose=0)\n",
        "print('Test loss:', score[0])\n",
        "print('Test accuracy:', score[1])"
      ],
      "execution_count": 22,
      "outputs": [
        {
          "output_type": "stream",
          "text": [
            "Test loss: 0.32899036469459536\n",
            "Test accuracy: 0.8844000101089478\n"
          ],
          "name": "stdout"
        }
      ]
    },
    {
      "cell_type": "code",
      "metadata": {
        "id": "1TOWwlOrxi0A",
        "colab_type": "code",
        "colab": {
          "base_uri": "https://localhost:8080/",
          "height": 34
        },
        "outputId": "6c53e5cc-273b-475d-df1c-57fb9bc505c3"
      },
      "source": [
        "prediction = model.predict(x_test)\n",
        "print(np.argmax(np.round(prediction[1])))"
      ],
      "execution_count": 23,
      "outputs": [
        {
          "output_type": "stream",
          "text": [
            "2\n"
          ],
          "name": "stdout"
        }
      ]
    },
    {
      "cell_type": "code",
      "metadata": {
        "id": "LGJXupG0yZGj",
        "colab_type": "code",
        "colab": {
          "base_uri": "https://localhost:8080/",
          "height": 265
        },
        "outputId": "9c150f23-b367-4e7b-99ab-4043937075fa"
      },
      "source": [
        "plt.imshow(x_test[1].reshape(28,28), cmap=plt.get_cmap('gray'))\n",
        "plt.show()"
      ],
      "execution_count": 27,
      "outputs": [
        {
          "output_type": "display_data",
          "data": {
            "image/png": "[encoded data removed]",
            "text/plain": [
              "<Figure size 432x288 with 1 Axes>"
            ]
          },
          "metadata": {
            "tags": [],
            "needs_background": "light"
          }
        }
      ]
    },
    {
      "cell_type": "code",
      "metadata": {
        "id": "ZM0TjYCv5HTZ",
        "colab_type": "code",
        "colab": {
          "base_uri": "https://localhost:8080/",
          "height": 51
        },
        "outputId": "e74e5683-25c6-4115-c604-2014b0d6aa69"
      },
      "source": [
        "# Function to load and prepare the image in right shape\n",
        "def load_image(filename):\n",
        "\t# Load the image\n",
        "\timg = load_img(filename, color_mode = \"grayscale\", target_size=(28, 28))\n",
        "\t# Convert the image to array\n",
        "\timg = img_to_array(img)\n",
        "\t# Reshape the image into a sample of 1 channel\n",
        "\timg = img.reshape(1, 28, 28, 1)\n",
        "\t# Prepare it as pixel data\n",
        "\timg = img.astype('float32')\n",
        "\timg = img / 255.0\n",
        "\treturn img\n",
        "\n",
        "# Load an image and predict the apparel class\n",
        "img = load_image('sandal.jpg')\n",
        "# Predict the apparel class\n",
        "class_prediction = model.predict_classes(img)\n",
        "print(class_prediction[0])\n",
        "\n",
        "#Map apparel category with the numerical class\n",
        "if class_prediction[0] == 0:\n",
        "  product = \"T-shirt/top\"\n",
        "elif class_prediction[0] == 1:\n",
        "  product = \"Trouser\"\n",
        "elif class_prediction[0] == 2:\n",
        "  product = \"Pullover\"\n",
        "elif class_prediction[0] == 3:\n",
        "  product = \"Dress\"\n",
        "elif class_prediction[0] == 4:\n",
        "  product = \"Coat\"\n",
        "elif class_prediction[0] == 5:\n",
        "  product = \"Sandal\"\n",
        "elif class_prediction[0] == 6:\n",
        "  product = \"Shirt\"\n",
        "elif class_prediction[0] == 7:\n",
        "  product = \"Sneaker\"\n",
        "elif class_prediction[0] == 8:\n",
        "  product = \"Bag\"\n",
        "else:\n",
        "  product = \"Ankle boot\"\n",
        "\n",
        "print(product)\n"
      ],
      "execution_count": 28,
      "outputs": [
        {
          "output_type": "stream",
          "text": [
            "5\n",
            "Sandal\n"
          ],
          "name": "stdout"
        }
      ]
    },
    {
      "cell_type": "code",
      "metadata": {
        "id": "HXsooBWQzCcu",
        "colab_type": "code",
        "colab": {
          "resources": {
            "http://localhost:8080/nbextensions/google.colab/files.js": {
              "data": "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",
              "ok": true,
              "headers": [
                [
                  "content-type",
                  "application/javascript"
                ]
              ],
              "status": 200,
              "status_text": ""
            }
          },
          "base_uri": "https://localhost:8080/",
          "height": 109
        },
        "outputId": "0ec2e139-15b2-4425-d8b9-d98662c7a0bb"
      },
      "source": [
        "uploaded = files.upload()\n",
        "for i in uploaded.keys():\n",
        "\n",
        "  path = '/content/'+i\n",
        "  img = image.load_img(path,color_mode = \"grayscale\" ,target_size=(28,28))\n",
        "  x = image.img_to_array(img)\n",
        "  x = np.expand_dims(x, axis=0)\n",
        "\n",
        "  images = np.vstack([x])\n",
        "  class_prediction = model.predict(images, batch_size=128)\n",
        "  print(classes)\n",
        "\n",
        "class_prediction = np.argmax(classes, axis=1)\n",
        "\n",
        "# class_prediction = model.predict_classes(img)\n",
        "# print(class_prediction[0])\n",
        "\n",
        "#Map apparel category with the numerical class\n",
        "if class_prediction[0] == 0:\n",
        "  product = \"T-shirt/top\"\n",
        "elif class_prediction[0] == 1:\n",
        "  product = \"Trouser\"\n",
        "elif class_prediction[0] == 2:\n",
        "  product = \"Pullover\"\n",
        "elif class_prediction[0] == 3:\n",
        "  product = \"Dress\"\n",
        "elif class_prediction[0] == 4:\n",
        "  product = \"Coat\"\n",
        "elif class_prediction[0] == 5:\n",
        "  product = \"Sandal\"\n",
        "elif class_prediction[0] == 6:\n",
        "  product = \"Shirt\"\n",
        "elif class_prediction[0] == 7:\n",
        "  product = \"Sneaker\"\n",
        "elif class_prediction[0] == 8:\n",
        "  product = \"Bag\"\n",
        "else:\n",
        "  product = \"Ankle boot\"\n",
        "print(product)"
      ],
      "execution_count": 46,
      "outputs": [
        {
          "output_type": "display_data",
          "data": {
            "text/html": [
              "\n",
              "     <input type=\"file\" id=\"files-5fc6ef57-7cce-4b06-a261-5e45fe63c870\" name=\"files[]\" multiple disabled />\n",
              "     <output id=\"result-5fc6ef57-7cce-4b06-a261-5e45fe63c870\">\n",
              "      Upload widget is only available when the cell has been executed in the\n",
              "      current browser session. Please rerun this cell to enable.\n",
              "      </output>\n",
              "      <script src=\"/nbextensions/google.colab/files.js\"></script> "
            ],
            "text/plain": [
              "<IPython.core.display.HTML object>"
            ]
          },
          "metadata": {
            "tags": []
          }
        },
        {
          "output_type": "stream",
          "text": [
            "Saving sandal.jpg to sandal (17).jpg\n",
            "[[0. 0. 0. 0. 0. 1. 0. 0. 0. 0.]]\n",
            "Sandal\n"
          ],
          "name": "stdout"
        }
      ]
    },
    {
      "cell_type": "code",
      "metadata": {
        "id": "Fgf2U7ZH6Idd",
        "colab_type": "code",
        "colab": {
          "base_uri": "https://localhost:8080/",
          "height": 71
        },
        "outputId": "305fa2d4-983b-48e9-8484-3bdbbc8434fd"
      },
      "source": [
        "model.save('fashion_item_prediction.h5')\n",
        "# model = load_model('fashion_item_prediction_model.h5')"
      ],
      "execution_count": 49,
      "outputs": [
        {
          "output_type": "stream",
          "text": [
            "/usr/local/lib/python3.6/dist-packages/keras/engine/saving.py:165: UserWarning: TensorFlow optimizers do not make it possible to access optimizer attributes or optimizer state after instantiation. As a result, we cannot save the optimizer as part of the model save file.You will have to compile your model again after loading it. Prefer using a Keras optimizer instead (see keras.io/optimizers).\n",
            "  'TensorFlow optimizers do not '\n"
          ],
          "name": "stderr"
        }
      ]
    },
    {
      "cell_type": "code",
      "metadata": {
        "id": "ZUSrcExcILKY",
        "colab_type": "code",
        "colab": {}
      },
      "source": [
        ""
      ],
      "execution_count": 0,
      "outputs": []
    }
  ]
}